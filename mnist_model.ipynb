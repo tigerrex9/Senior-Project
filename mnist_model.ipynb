{
  "nbformat": 4,
  "nbformat_minor": 0,
  "metadata": {
    "colab": {
      "provenance": [],
      "authorship_tag": "ABX9TyN/OhdR9P2aMPUFWs+IVGqX",
      "include_colab_link": true
    },
    "kernelspec": {
      "name": "python3",
      "display_name": "Python 3"
    },
    "language_info": {
      "name": "python"
    },
    "accelerator": "GPU",
    "gpuClass": "standard"
  },
  "cells": [
    {
      "cell_type": "markdown",
      "metadata": {
        "id": "view-in-github",
        "colab_type": "text"
      },
      "source": [
        "<a href=\"https://colab.research.google.com/github/tigerrex9/Senior-Project/blob/main/mnist_model.ipynb\" target=\"_parent\"><img src=\"https://colab.research.google.com/assets/colab-badge.svg\" alt=\"Open In Colab\"/></a>"
      ]
    },
    {
      "cell_type": "code",
      "execution_count": 5,
      "metadata": {
        "id": "Pmrj0tL1j2XS"
      },
      "outputs": [],
      "source": [
        "import numpy as np\n",
        "import pandas as pd\n",
        "import matplotlib.pyplot as plt\n",
        "import seaborn as sns\n",
        "\n",
        "import tensorflow as tf\n",
        "from tensorflow import keras\n",
        "from tensorflow.keras import layers\n",
        "\n",
        "from sklearn.metrics import precision_score, recall_score, accuracy_score, f1_score\n",
        "from sklearn.metrics import confusion_matrix\n",
        "\n",
        "from keras.datasets import mnist\n",
        "from keras.callbacks import ModelCheckpoint"
      ]
    },
    {
      "cell_type": "code",
      "source": [
        "def plot_confusion_matrix(y_true, y_pred, class_names, normalize=None,\n",
        "                          title='Confusion Matrix', plot_numbers=False, display_names=None,\n",
        "                          figsize=(15, 11)):\n",
        "\n",
        "    cm = confusion_matrix(y_true, y_pred, labels=class_names, normalize=normalize)\n",
        "    \n",
        "    if not display_names:\n",
        "        display_names = class_names\n",
        "    df_cm = pd.DataFrame(cm, index=display_names, columns=display_names)\n",
        "    fig = plt.figure(figsize=figsize)\n",
        "    sns.heatmap(df_cm, annot=plot_numbers, cmap='Blues', fmt='g')\n",
        "    plt.setp(plt.gca().get_xticklabels(), ha=\"right\", rotation=45)\n",
        "    plt.ylabel('True Label')\n",
        "    plt.xlabel('Predicted Label')\n",
        "    plt.title(title)\n",
        "    #return fig\n",
        "\n",
        "def plot_graphs(history, best):\n",
        "  \n",
        "  plt.figure(figsize=[10,4])\n",
        "  # summarize history for accuracy\n",
        "  plt.subplot(121)\n",
        "  plt.plot(history.history['accuracy'])\n",
        "  plt.plot(history.history['val_accuracy'])\n",
        "  plt.title('model accuracy across training\\n best accuracy of %.02f'%best[1])\n",
        "  plt.ylabel('accuracy')\n",
        "  plt.xlabel('epoch')\n",
        "  plt.legend(['train', 'test'], loc='upper left')\n",
        "  \n",
        "  # summarize history for loss\n",
        "  plt.subplot(122)\n",
        "  plt.plot(history.history['loss'])\n",
        "  plt.plot(history.history['val_loss'])\n",
        "  plt.title('model loss across training\\n best loss of %.02f'%best[0])\n",
        "  plt.ylabel('loss')\n",
        "  plt.xlabel('epoch')\n",
        "  plt.legend(['train', 'test'], loc='upper left')\n",
        "  plt.show()"
      ],
      "metadata": {
        "id": "VVrVTl7PVIK8"
      },
      "execution_count": 6,
      "outputs": []
    },
    {
      "cell_type": "code",
      "source": [
        "num_classes = 10\n",
        "input_shape = (28, 28, 1)"
      ],
      "metadata": {
        "id": "RQbYg_pQxfO-"
      },
      "execution_count": 7,
      "outputs": []
    },
    {
      "cell_type": "code",
      "source": [
        "(x_train, y_train), (x_test, y_test) = mnist.load_data()\n",
        "x_train = x_train.astype(\"float32\") / 255\n",
        "x_test = x_test.astype(\"float32\") / 255\n",
        "\n",
        "x_train = np.expand_dims(x_train, -1)\n",
        "x_test = np.expand_dims(x_test, -1)"
      ],
      "metadata": {
        "colab": {
          "base_uri": "https://localhost:8080/"
        },
        "id": "-kEHJCXakAzg",
        "outputId": "6f2c419a-7277-402c-890b-4552489f6118"
      },
      "execution_count": 8,
      "outputs": [
        {
          "output_type": "stream",
          "name": "stdout",
          "text": [
            "Downloading data from https://storage.googleapis.com/tensorflow/tf-keras-datasets/mnist.npz\n",
            "11490434/11490434 [==============================] - 2s 0us/step\n"
          ]
        }
      ]
    },
    {
      "cell_type": "code",
      "source": [
        "y_train = keras.utils.to_categorical(y_train, num_classes)\n",
        "y_test = keras.utils.to_categorical(y_test, num_classes)"
      ],
      "metadata": {
        "id": "6S8e4d-NkEjL"
      },
      "execution_count": 9,
      "outputs": []
    },
    {
      "cell_type": "code",
      "source": [
        "model = keras.Sequential(\n",
        "    [\n",
        "        keras.Input(shape=input_shape),\n",
        "        layers.Conv2D(32, kernel_size=(3, 3), activation=\"relu\"),\n",
        "        layers.MaxPooling2D(pool_size=(2, 2)),\n",
        "        layers.Conv2D(64, kernel_size=(3, 3), activation=\"relu\"),\n",
        "        layers.MaxPooling2D(pool_size=(2, 2)),\n",
        "        layers.Flatten(),\n",
        "        layers.Dropout(0.5),\n",
        "        layers.Dense(num_classes, activation=\"softmax\"),\n",
        "    ]\n",
        ")\n",
        "\n",
        "model.summary()"
      ],
      "metadata": {
        "colab": {
          "base_uri": "https://localhost:8080/"
        },
        "id": "o-yftDnIxo4-",
        "outputId": "daf86209-8f0c-4227-e07e-a5fceffb7a8d"
      },
      "execution_count": 10,
      "outputs": [
        {
          "output_type": "stream",
          "name": "stdout",
          "text": [
            "Model: \"sequential\"\n",
            "_________________________________________________________________\n",
            " Layer (type)                Output Shape              Param #   \n",
            "=================================================================\n",
            " conv2d (Conv2D)             (None, 26, 26, 32)        320       \n",
            "                                                                 \n",
            " max_pooling2d (MaxPooling2D  (None, 13, 13, 32)       0         \n",
            " )                                                               \n",
            "                                                                 \n",
            " conv2d_1 (Conv2D)           (None, 11, 11, 64)        18496     \n",
            "                                                                 \n",
            " max_pooling2d_1 (MaxPooling  (None, 5, 5, 64)         0         \n",
            " 2D)                                                             \n",
            "                                                                 \n",
            " flatten (Flatten)           (None, 1600)              0         \n",
            "                                                                 \n",
            " dropout (Dropout)           (None, 1600)              0         \n",
            "                                                                 \n",
            " dense (Dense)               (None, 10)                16010     \n",
            "                                                                 \n",
            "=================================================================\n",
            "Total params: 34,826\n",
            "Trainable params: 34,826\n",
            "Non-trainable params: 0\n",
            "_________________________________________________________________\n"
          ]
        }
      ]
    },
    {
      "cell_type": "code",
      "source": [
        "batch_size = 256\n",
        "epochs = 20\n",
        "\n",
        "checkpoint = ModelCheckpoint(\n",
        "    \"best_model\",\n",
        "    verbose = 0,\n",
        "    monitor = \"val_loss\",\n",
        "    save_best_only = True,\n",
        "    mode = \"auto\",\n",
        ")\n",
        "\n",
        "model.compile(\n",
        "    optimizer= keras.optimizers.Adam(1e-3),\n",
        "    loss=\"categorical_crossentropy\",\n",
        "    metrics=[\"accuracy\"],\n",
        "    )\n",
        "\n",
        "model_history = model.fit(\n",
        "    x_train, y_train,\n",
        "    batch_size=batch_size,\n",
        "    epochs=epochs,\n",
        "    validation_split=0.1,\n",
        "    callbacks= checkpoint,\n",
        ")\n",
        "\n",
        "model_performance = model.evaluate(x_test, y_test, batch_size=32)"
      ],
      "metadata": {
        "colab": {
          "base_uri": "https://localhost:8080/"
        },
        "id": "45CLGWPnyWe7",
        "outputId": "a6f12556-5fe2-4d74-a45d-38bbf68611fb"
      },
      "execution_count": 17,
      "outputs": [
        {
          "output_type": "stream",
          "name": "stdout",
          "text": [
            "Epoch 1/20\n",
            "210/211 [============================>.] - ETA: 0s - loss: 0.0380 - accuracy: 0.9879"
          ]
        },
        {
          "output_type": "stream",
          "name": "stderr",
          "text": [
            "WARNING:absl:Found untraced functions such as _jit_compiled_convolution_op, _jit_compiled_convolution_op while saving (showing 2 of 2). These functions will not be directly callable after loading.\n"
          ]
        },
        {
          "output_type": "stream",
          "name": "stdout",
          "text": [
            "\b\b\b\b\b\b\b\b\b\b\b\b\b\b\b\b\b\b\b\b\b\b\b\b\b\b\b\b\b\b\b\b\b\b\b\b\b\b\b\b\b\b\b\b\b\b\b\b\b\b\b\b\b\b\b\b\b\b\b\b\b\b\b\b\b\b\b\b\b\b\b\b\b\b\b\b\b\b\b\b\b\b\b\b\r211/211 [==============================] - 3s 11ms/step - loss: 0.0381 - accuracy: 0.9879 - val_loss: 0.0314 - val_accuracy: 0.9920\n",
            "Epoch 2/20\n",
            "206/211 [============================>.] - ETA: 0s - loss: 0.0366 - accuracy: 0.9881"
          ]
        },
        {
          "output_type": "stream",
          "name": "stderr",
          "text": [
            "WARNING:absl:Found untraced functions such as _jit_compiled_convolution_op, _jit_compiled_convolution_op while saving (showing 2 of 2). These functions will not be directly callable after loading.\n"
          ]
        },
        {
          "output_type": "stream",
          "name": "stdout",
          "text": [
            "\b\b\b\b\b\b\b\b\b\b\b\b\b\b\b\b\b\b\b\b\b\b\b\b\b\b\b\b\b\b\b\b\b\b\b\b\b\b\b\b\b\b\b\b\b\b\b\b\b\b\b\b\b\b\b\b\b\b\b\b\b\b\b\b\b\b\b\b\b\b\b\b\b\b\b\b\b\b\b\b\b\b\b\b\r211/211 [==============================] - 2s 10ms/step - loss: 0.0365 - accuracy: 0.9882 - val_loss: 0.0312 - val_accuracy: 0.9915\n",
            "Epoch 3/20\n",
            "211/211 [==============================] - 2s 8ms/step - loss: 0.0347 - accuracy: 0.9890 - val_loss: 0.0326 - val_accuracy: 0.9913\n",
            "Epoch 4/20\n",
            "208/211 [============================>.] - ETA: 0s - loss: 0.0330 - accuracy: 0.9889"
          ]
        },
        {
          "output_type": "stream",
          "name": "stderr",
          "text": [
            "WARNING:absl:Found untraced functions such as _jit_compiled_convolution_op, _jit_compiled_convolution_op while saving (showing 2 of 2). These functions will not be directly callable after loading.\n"
          ]
        },
        {
          "output_type": "stream",
          "name": "stdout",
          "text": [
            "\b\b\b\b\b\b\b\b\b\b\b\b\b\b\b\b\b\b\b\b\b\b\b\b\b\b\b\b\b\b\b\b\b\b\b\b\b\b\b\b\b\b\b\b\b\b\b\b\b\b\b\b\b\b\b\b\b\b\b\b\b\b\b\b\b\b\b\b\b\b\b\b\b\b\b\b\b\b\b\b\b\b\b\b\r211/211 [==============================] - 2s 11ms/step - loss: 0.0329 - accuracy: 0.9890 - val_loss: 0.0309 - val_accuracy: 0.9918\n",
            "Epoch 5/20\n",
            "209/211 [============================>.] - ETA: 0s - loss: 0.0319 - accuracy: 0.9896"
          ]
        },
        {
          "output_type": "stream",
          "name": "stderr",
          "text": [
            "WARNING:absl:Found untraced functions such as _jit_compiled_convolution_op, _jit_compiled_convolution_op while saving (showing 2 of 2). These functions will not be directly callable after loading.\n"
          ]
        },
        {
          "output_type": "stream",
          "name": "stdout",
          "text": [
            "\b\b\b\b\b\b\b\b\b\b\b\b\b\b\b\b\b\b\b\b\b\b\b\b\b\b\b\b\b\b\b\b\b\b\b\b\b\b\b\b\b\b\b\b\b\b\b\b\b\b\b\b\b\b\b\b\b\b\b\b\b\b\b\b\b\b\b\b\b\b\b\b\b\b\b\b\b\b\b\b\b\b\b\b\r211/211 [==============================] - 2s 10ms/step - loss: 0.0318 - accuracy: 0.9896 - val_loss: 0.0304 - val_accuracy: 0.9915\n",
            "Epoch 6/20\n",
            "210/211 [============================>.] - ETA: 0s - loss: 0.0320 - accuracy: 0.9890"
          ]
        },
        {
          "output_type": "stream",
          "name": "stderr",
          "text": [
            "WARNING:absl:Found untraced functions such as _jit_compiled_convolution_op, _jit_compiled_convolution_op while saving (showing 2 of 2). These functions will not be directly callable after loading.\n"
          ]
        },
        {
          "output_type": "stream",
          "name": "stdout",
          "text": [
            "\b\b\b\b\b\b\b\b\b\b\b\b\b\b\b\b\b\b\b\b\b\b\b\b\b\b\b\b\b\b\b\b\b\b\b\b\b\b\b\b\b\b\b\b\b\b\b\b\b\b\b\b\b\b\b\b\b\b\b\b\b\b\b\b\b\b\b\b\b\b\b\b\b\b\b\b\b\b\b\b\b\b\b\b\r211/211 [==============================] - 2s 10ms/step - loss: 0.0320 - accuracy: 0.9890 - val_loss: 0.0290 - val_accuracy: 0.9922\n",
            "Epoch 7/20\n",
            "209/211 [============================>.] - ETA: 0s - loss: 0.0301 - accuracy: 0.9902"
          ]
        },
        {
          "output_type": "stream",
          "name": "stderr",
          "text": [
            "WARNING:absl:Found untraced functions such as _jit_compiled_convolution_op, _jit_compiled_convolution_op while saving (showing 2 of 2). These functions will not be directly callable after loading.\n"
          ]
        },
        {
          "output_type": "stream",
          "name": "stdout",
          "text": [
            "\b\b\b\b\b\b\b\b\b\b\b\b\b\b\b\b\b\b\b\b\b\b\b\b\b\b\b\b\b\b\b\b\b\b\b\b\b\b\b\b\b\b\b\b\b\b\b\b\b\b\b\b\b\b\b\b\b\b\b\b\b\b\b\b\b\b\b\b\b\b\b\b\b\b\b\b\b\b\b\b\b\b\b\b\r211/211 [==============================] - 2s 10ms/step - loss: 0.0303 - accuracy: 0.9901 - val_loss: 0.0289 - val_accuracy: 0.9917\n",
            "Epoch 8/20\n",
            "211/211 [==============================] - 2s 7ms/step - loss: 0.0290 - accuracy: 0.9912 - val_loss: 0.0297 - val_accuracy: 0.9907\n",
            "Epoch 9/20\n",
            "211/211 [==============================] - 2s 8ms/step - loss: 0.0277 - accuracy: 0.9909 - val_loss: 0.0291 - val_accuracy: 0.9917\n",
            "Epoch 10/20\n",
            "211/211 [==============================] - 2s 7ms/step - loss: 0.0262 - accuracy: 0.9909 - val_loss: 0.0302 - val_accuracy: 0.9922\n",
            "Epoch 11/20\n",
            "211/211 [==============================] - 2s 8ms/step - loss: 0.0281 - accuracy: 0.9911 - val_loss: 0.0292 - val_accuracy: 0.9920\n",
            "Epoch 12/20\n",
            "210/211 [============================>.] - ETA: 0s - loss: 0.0257 - accuracy: 0.9916"
          ]
        },
        {
          "output_type": "stream",
          "name": "stderr",
          "text": [
            "WARNING:absl:Found untraced functions such as _jit_compiled_convolution_op, _jit_compiled_convolution_op while saving (showing 2 of 2). These functions will not be directly callable after loading.\n"
          ]
        },
        {
          "output_type": "stream",
          "name": "stdout",
          "text": [
            "\b\b\b\b\b\b\b\b\b\b\b\b\b\b\b\b\b\b\b\b\b\b\b\b\b\b\b\b\b\b\b\b\b\b\b\b\b\b\b\b\b\b\b\b\b\b\b\b\b\b\b\b\b\b\b\b\b\b\b\b\b\b\b\b\b\b\b\b\b\b\b\b\b\b\b\b\b\b\b\b\b\b\b\b\r211/211 [==============================] - 3s 13ms/step - loss: 0.0257 - accuracy: 0.9916 - val_loss: 0.0274 - val_accuracy: 0.9925\n",
            "Epoch 13/20\n",
            "211/211 [==============================] - 1s 7ms/step - loss: 0.0257 - accuracy: 0.9917 - val_loss: 0.0274 - val_accuracy: 0.9927\n",
            "Epoch 14/20\n",
            "211/211 [==============================] - 2s 7ms/step - loss: 0.0243 - accuracy: 0.9918 - val_loss: 0.0278 - val_accuracy: 0.9923\n",
            "Epoch 15/20\n",
            "211/211 [==============================] - 2s 7ms/step - loss: 0.0240 - accuracy: 0.9920 - val_loss: 0.0291 - val_accuracy: 0.9923\n",
            "Epoch 16/20\n",
            "208/211 [============================>.] - ETA: 0s - loss: 0.0248 - accuracy: 0.9916"
          ]
        },
        {
          "output_type": "stream",
          "name": "stderr",
          "text": [
            "WARNING:absl:Found untraced functions such as _jit_compiled_convolution_op, _jit_compiled_convolution_op while saving (showing 2 of 2). These functions will not be directly callable after loading.\n"
          ]
        },
        {
          "output_type": "stream",
          "name": "stdout",
          "text": [
            "\b\b\b\b\b\b\b\b\b\b\b\b\b\b\b\b\b\b\b\b\b\b\b\b\b\b\b\b\b\b\b\b\b\b\b\b\b\b\b\b\b\b\b\b\b\b\b\b\b\b\b\b\b\b\b\b\b\b\b\b\b\b\b\b\b\b\b\b\b\b\b\b\b\b\b\b\b\b\b\b\b\b\b\b\r211/211 [==============================] - 2s 11ms/step - loss: 0.0247 - accuracy: 0.9917 - val_loss: 0.0270 - val_accuracy: 0.9930\n",
            "Epoch 17/20\n",
            "204/211 [============================>.] - ETA: 0s - loss: 0.0243 - accuracy: 0.9918"
          ]
        },
        {
          "output_type": "stream",
          "name": "stderr",
          "text": [
            "WARNING:absl:Found untraced functions such as _jit_compiled_convolution_op, _jit_compiled_convolution_op while saving (showing 2 of 2). These functions will not be directly callable after loading.\n"
          ]
        },
        {
          "output_type": "stream",
          "name": "stdout",
          "text": [
            "\b\b\b\b\b\b\b\b\b\b\b\b\b\b\b\b\b\b\b\b\b\b\b\b\b\b\b\b\b\b\b\b\b\b\b\b\b\b\b\b\b\b\b\b\b\b\b\b\b\b\b\b\b\b\b\b\b\b\b\b\b\b\b\b\b\b\b\b\b\b\b\b\b\b\b\b\b\b\b\b\b\b\b\b\r211/211 [==============================] - 2s 11ms/step - loss: 0.0243 - accuracy: 0.9918 - val_loss: 0.0266 - val_accuracy: 0.9932\n",
            "Epoch 18/20\n",
            "211/211 [==============================] - 1s 7ms/step - loss: 0.0239 - accuracy: 0.9920 - val_loss: 0.0279 - val_accuracy: 0.9925\n",
            "Epoch 19/20\n",
            "210/211 [============================>.] - ETA: 0s - loss: 0.0224 - accuracy: 0.9926"
          ]
        },
        {
          "output_type": "stream",
          "name": "stderr",
          "text": [
            "WARNING:absl:Found untraced functions such as _jit_compiled_convolution_op, _jit_compiled_convolution_op while saving (showing 2 of 2). These functions will not be directly callable after loading.\n"
          ]
        },
        {
          "output_type": "stream",
          "name": "stdout",
          "text": [
            "\b\b\b\b\b\b\b\b\b\b\b\b\b\b\b\b\b\b\b\b\b\b\b\b\b\b\b\b\b\b\b\b\b\b\b\b\b\b\b\b\b\b\b\b\b\b\b\b\b\b\b\b\b\b\b\b\b\b\b\b\b\b\b\b\b\b\b\b\b\b\b\b\b\b\b\b\b\b\b\b\b\b\b\b\r211/211 [==============================] - 2s 10ms/step - loss: 0.0224 - accuracy: 0.9926 - val_loss: 0.0261 - val_accuracy: 0.9932\n",
            "Epoch 20/20\n",
            "211/211 [==============================] - 1s 7ms/step - loss: 0.0224 - accuracy: 0.9920 - val_loss: 0.0293 - val_accuracy: 0.9923\n",
            "313/313 [==============================] - 1s 2ms/step - loss: 0.0222 - accuracy: 0.9918\n"
          ]
        }
      ]
    },
    {
      "cell_type": "code",
      "source": [
        "score = model.evaluate(x_test, y_test, verbose=0)\n",
        "print(\"Test loss:\", score[0])\n",
        "print(\"Test accuracy:\", score[1])\n",
        "\n",
        "plot_graphs(model_history, model_performance)"
      ],
      "metadata": {
        "colab": {
          "base_uri": "https://localhost:8080/",
          "height": 345
        },
        "id": "_1YfyJEnyaFg",
        "outputId": "9814a0f9-1629-43f4-eaa9-1318e3efbe39"
      },
      "execution_count": 18,
      "outputs": [
        {
          "output_type": "stream",
          "name": "stdout",
          "text": [
            "Test loss: 0.02215607464313507\n",
            "Test accuracy: 0.9918000102043152\n"
          ]
        },
        {
          "output_type": "display_data",
          "data": {
            "text/plain": [
              "<Figure size 720x288 with 2 Axes>"
            ],
            "image/png": "[encoded data removed]"
          },
          "metadata": {
            "needs_background": "light"
          }
        }
      ]
    },
    {
      "cell_type": "code",
      "source": [
        "y_test_class = np.argmax(y_test, axis = 1)\n",
        "\n",
        "y_pred = model.predict(x_test)\n",
        "y_pred_class = np.argmax(y_pred, axis = 1)\n",
        "\n",
        "y_pred_max = np.zeros(y_pred.shape)\n",
        "y_pred_max[np.arange(y_pred.shape[0]), y_pred_class] = 1"
      ],
      "metadata": {
        "id": "0uUTwEIvWRRW",
        "colab": {
          "base_uri": "https://localhost:8080/"
        },
        "outputId": "fc5fe595-0e51-40fb-f47d-d28659f9c460"
      },
      "execution_count": 15,
      "outputs": [
        {
          "output_type": "stream",
          "name": "stdout",
          "text": [
            "313/313 [==============================] - 1s 2ms/step\n"
          ]
        }
      ]
    },
    {
      "cell_type": "code",
      "source": [
        "label_names = ['0','1','2','3','4','5','6','7','8','9']\n",
        "labels = [0,1,2,3,4,5,6,7,8,9]\n",
        "plot_confusion_matrix(y_test_class, y_pred_class, labels, plot_numbers = True, display_names = label_names)\n"
      ],
      "metadata": {
        "colab": {
          "base_uri": "https://localhost:8080/",
          "height": 670
        },
        "id": "4TwsMKpA1Z_4",
        "outputId": "e44d178b-9d92-44df-c9a1-42030452ffea"
      },
      "execution_count": 23,
      "outputs": [
        {
          "output_type": "display_data",
          "data": {
            "text/plain": [
              "<Figure size 1080x792 with 2 Axes>"
            ],
            "image/png": "[encoded data removed]"
          },
          "metadata": {
            "needs_background": "light"
          }
        }
      ]
    }
  ]
}